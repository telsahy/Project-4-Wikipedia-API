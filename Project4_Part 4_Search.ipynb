{
 "cells": [
  {
   "cell_type": "code",
   "execution_count": 3,
   "metadata": {},
   "outputs": [],
   "source": [
    "import pymongo\n",
    "import re\n",
    "import requests\n",
    "import pandas as pd\n",
    "import numpy as np\n",
    "import urllib\n",
    "import json\n",
    "import matplotlib.pyplot as plt\n",
    "import numpy as np\n",
    "import pandas as pd\n",
    "import seaborn as sns\n",
    "\n",
    "%matplotlib inline"
   ]
  },
  {
   "cell_type": "code",
   "execution_count": 4,
   "metadata": {},
   "outputs": [],
   "source": [
    "client = pymongo.MongoClient('35.167.189.162', 27016)\n"
   ]
  },
  {
   "cell_type": "code",
   "execution_count": 5,
   "metadata": {},
   "outputs": [],
   "source": [
    "db_ref = client.project4_database"
   ]
  },
  {
   "cell_type": "code",
   "execution_count": 6,
   "metadata": {},
   "outputs": [],
   "source": [
    "coll_ref = db_ref.my_project4_combined_df"
   ]
  },
  {
   "cell_type": "code",
   "execution_count": 7,
   "metadata": {},
   "outputs": [],
   "source": [
    "cursor = coll_ref.find_one()\n",
    "\n",
    "cursor\n",
    "\n",
    "sample_docs = (cursor)"
   ]
  },
  {
   "cell_type": "code",
   "execution_count": 8,
   "metadata": {},
   "outputs": [],
   "source": [
    "from_mongo_combined = pd.DataFrame(sample_docs)"
   ]
  },
  {
   "cell_type": "code",
   "execution_count": 9,
   "metadata": {},
   "outputs": [
    {
     "data": {
      "text/plain": [
       "(2993, 5)"
      ]
     },
     "execution_count": 9,
     "metadata": {},
     "output_type": "execute_result"
    }
   ],
   "source": [
    "from_mongo_combined.shape"
   ]
  },
  {
   "cell_type": "code",
   "execution_count": 10,
   "metadata": {
    "scrolled": true
   },
   "outputs": [
    {
     "data": {
      "text/html": [
       "<div>\n",
       "<table border=\"1\" class=\"dataframe\">\n",
       "  <thead>\n",
       "    <tr style=\"text-align: right;\">\n",
       "      <th></th>\n",
       "      <th>_id</th>\n",
       "      <th>category</th>\n",
       "      <th>pageid</th>\n",
       "      <th>text</th>\n",
       "      <th>title</th>\n",
       "    </tr>\n",
       "  </thead>\n",
       "  <tbody>\n",
       "    <tr>\n",
       "      <th>0</th>\n",
       "      <td>5a1a0a2db97736002e75b32c</td>\n",
       "      <td>Machine learning</td>\n",
       "      <td>43385931</td>\n",
       "      <td>data exploration is an approach similar to ini...</td>\n",
       "      <td>Data exploration</td>\n",
       "    </tr>\n",
       "    <tr>\n",
       "      <th>1</th>\n",
       "      <td>5a1a0a2db97736002e75b32c</td>\n",
       "      <td>Machine learning</td>\n",
       "      <td>49082762</td>\n",
       "      <td>these datasets are used for machinelearning re...</td>\n",
       "      <td>List of datasets for machine learning research</td>\n",
       "    </tr>\n",
       "    <tr>\n",
       "      <th>10</th>\n",
       "      <td>5a1a0a2db97736002e75b32c</td>\n",
       "      <td>Machine learning</td>\n",
       "      <td>10435998</td>\n",
       "      <td>katia sycara greek is a professor in the robot...</td>\n",
       "      <td>Katia Sycara</td>\n",
       "    </tr>\n",
       "    <tr>\n",
       "      <th>100</th>\n",
       "      <td>5a1a0a2db97736002e75b32c</td>\n",
       "      <td>Machine learning</td>\n",
       "      <td>871681</td>\n",
       "      <td>in statistics a mixture model is a probabilist...</td>\n",
       "      <td>Mixture model</td>\n",
       "    </tr>\n",
       "    <tr>\n",
       "      <th>1000</th>\n",
       "      <td>5a1a0a2db97736002e75b32c</td>\n",
       "      <td>Machine learning</td>\n",
       "      <td>20768311</td>\n",
       "      <td>pierre baldi is a chancellors professor of com...</td>\n",
       "      <td>Pierre Baldi</td>\n",
       "    </tr>\n",
       "  </tbody>\n",
       "</table>\n",
       "</div>"
      ],
      "text/plain": [
       "                           _id          category    pageid  \\\n",
       "0     5a1a0a2db97736002e75b32c  Machine learning  43385931   \n",
       "1     5a1a0a2db97736002e75b32c  Machine learning  49082762   \n",
       "10    5a1a0a2db97736002e75b32c  Machine learning  10435998   \n",
       "100   5a1a0a2db97736002e75b32c  Machine learning    871681   \n",
       "1000  5a1a0a2db97736002e75b32c  Machine learning  20768311   \n",
       "\n",
       "                                                   text  \\\n",
       "0     data exploration is an approach similar to ini...   \n",
       "1     these datasets are used for machinelearning re...   \n",
       "10    katia sycara greek is a professor in the robot...   \n",
       "100   in statistics a mixture model is a probabilist...   \n",
       "1000  pierre baldi is a chancellors professor of com...   \n",
       "\n",
       "                                               title  \n",
       "0                                   Data exploration  \n",
       "1     List of datasets for machine learning research  \n",
       "10                                      Katia Sycara  \n",
       "100                                    Mixture model  \n",
       "1000                                    Pierre Baldi  "
      ]
     },
     "execution_count": 10,
     "metadata": {},
     "output_type": "execute_result"
    }
   ],
   "source": [
    "from_mongo_combined.head()"
   ]
  },
  {
   "cell_type": "code",
   "execution_count": 12,
   "metadata": {},
   "outputs": [],
   "source": [
    "sample_30pct = from_mongo_combined.sample(900)"
   ]
  },
  {
   "cell_type": "markdown",
   "metadata": {},
   "source": [
    "### Label Encode the Categories\n"
   ]
  },
  {
   "cell_type": "code",
   "execution_count": 14,
   "metadata": {},
   "outputs": [],
   "source": [
    "from sklearn.preprocessing import LabelEncoder"
   ]
  },
  {
   "cell_type": "code",
   "execution_count": 15,
   "metadata": {},
   "outputs": [],
   "source": [
    "le = LabelEncoder()\n",
    "sample_30pct['category_numerical'] = le.fit_transform(sample_30pct['category'])"
   ]
  },
  {
   "cell_type": "markdown",
   "metadata": {},
   "source": [
    "### Prepare Document Term Matrix"
   ]
  },
  {
   "cell_type": "code",
   "execution_count": 16,
   "metadata": {},
   "outputs": [],
   "source": [
    "from sklearn.feature_extraction.text import TfidfVectorizer"
   ]
  },
  {
   "cell_type": "code",
   "execution_count": 17,
   "metadata": {},
   "outputs": [],
   "source": [
    "tfidf_vectorizer = TfidfVectorizer(min_df = 1, stop_words = 'english')"
   ]
  },
  {
   "cell_type": "code",
   "execution_count": 18,
   "metadata": {},
   "outputs": [],
   "source": [
    "document_term_matrix_sps = tfidf_vectorizer.fit_transform(sample_30pct.text)"
   ]
  },
  {
   "cell_type": "code",
   "execution_count": 19,
   "metadata": {},
   "outputs": [
    {
     "data": {
      "text/plain": [
       "<900x37806 sparse matrix of type '<class 'numpy.float64'>'\n",
       "\twith 202273 stored elements in Compressed Sparse Row format>"
      ]
     },
     "execution_count": 19,
     "metadata": {},
     "output_type": "execute_result"
    }
   ],
   "source": [
    "document_term_matrix_sps"
   ]
  },
  {
   "cell_type": "code",
   "execution_count": 20,
   "metadata": {},
   "outputs": [],
   "source": [
    "document_term_matrix_df = pd.DataFrame(document_term_matrix_sps.toarray(),\n",
    "                                       index=sample_30pct.text,\n",
    "                                       columns=tfidf_vectorizer.get_feature_names())"
   ]
  },
  {
   "cell_type": "markdown",
   "metadata": {},
   "source": [
    "# Search"
   ]
  },
  {
   "cell_type": "markdown",
   "metadata": {},
   "source": [
    "### Encode the search term using the same vectorizer"
   ]
  },
  {
   "cell_type": "code",
   "execution_count": 21,
   "metadata": {},
   "outputs": [],
   "source": [
    "Machine_learning = [\n",
    "{\"sentence\": \"A Support Vector Machine (SVM) is a discriminative classifier\", \"title\" : \"Machine learning\"},\n",
    "{\"sentence\": \"formally defined by a separating hyperplane.,\", \"title\" : \"Machine learning\"},\n",
    "{\"sentence\": \"In other words, given labeled training data (supervised learning),\", \"title\" : \"Machine learning\"},\n",
    "{\"sentence\": \"the algorithm outputs an optimal hyperplane ,\", \"title\" : \"Machine learning\"},\n",
    "{\"sentence\": \"which categorizes new examples.\", \"title\" : \"Machine learning\"},\n",
    "{\"sentence\": \"In which sense is the hyperplane obtained optimal?\", \"title\" : \"Machine learning\"},\n",
    "{\"sentence\": \"Let’s consider the following simple problem:\", \"title\" : \"Machine learning\"},\n",
    "{\"sentence\": \"For a linearly separable set of 2D-points\", \"title\" : \"Machine learning\"},\n",
    "{\"sentence\": \"which belong to one of two classes, find a separating straight line.\", \"title\" : \"Machine learning\"},\n",
    "{\"sentence\": \"In this example we deal with lines and points in the Cartesian plane,\", \"title\" : \"Machine learning\"},\n",
    "{\"sentence\": \"instead of hyperplanes and vectors in a high dimensional space.\", \"title\" : \"Machine learning\"},\n",
    "{\"sentence\": \"This is a simplification of the problem.\", \"title\" : \"Machine learning\"},\n",
    "{\"sentence\": \"It is important to understand that this is done only because our intuition,\", \"title\" : \"Machine learning\"},\n",
    "{\"sentence\": \"is better built from examples that are easy to imagine. \", \"title\" : \"Machine learning\"},\n",
    "{\"sentence\": \"Then, the operation of the SVM algorithm is based on finding the hyperplane\", \"title\" : \"Machine learnings\"},\n",
    "{\"sentence\": \"that gives the largest minimum distance to the training examples.\",    \"title\" : \"Machine learning\"},\n",
    "]\n",
    "\n",
    "\n",
    "\n"
   ]
  },
  {
   "cell_type": "code",
   "execution_count": 22,
   "metadata": {},
   "outputs": [],
   "source": [
    "machine_learning_df = pd.DataFrame(Machine_learning)"
   ]
  },
  {
   "cell_type": "code",
   "execution_count": 23,
   "metadata": {},
   "outputs": [
    {
     "data": {
      "text/html": [
       "<div>\n",
       "<table border=\"1\" class=\"dataframe\">\n",
       "  <thead>\n",
       "    <tr style=\"text-align: right;\">\n",
       "      <th></th>\n",
       "      <th>sentence</th>\n",
       "      <th>title</th>\n",
       "    </tr>\n",
       "  </thead>\n",
       "  <tbody>\n",
       "    <tr>\n",
       "      <th>0</th>\n",
       "      <td>A Support Vector Machine (SVM) is a discrimina...</td>\n",
       "      <td>Machine learning</td>\n",
       "    </tr>\n",
       "    <tr>\n",
       "      <th>1</th>\n",
       "      <td>formally defined by a separating hyperplane.,</td>\n",
       "      <td>Machine learning</td>\n",
       "    </tr>\n",
       "    <tr>\n",
       "      <th>2</th>\n",
       "      <td>In other words, given labeled training data (s...</td>\n",
       "      <td>Machine learning</td>\n",
       "    </tr>\n",
       "    <tr>\n",
       "      <th>3</th>\n",
       "      <td>the algorithm outputs an optimal hyperplane ,</td>\n",
       "      <td>Machine learning</td>\n",
       "    </tr>\n",
       "    <tr>\n",
       "      <th>4</th>\n",
       "      <td>which categorizes new examples.</td>\n",
       "      <td>Machine learning</td>\n",
       "    </tr>\n",
       "  </tbody>\n",
       "</table>\n",
       "</div>"
      ],
      "text/plain": [
       "                                            sentence             title\n",
       "0  A Support Vector Machine (SVM) is a discrimina...  Machine learning\n",
       "1      formally defined by a separating hyperplane.,  Machine learning\n",
       "2  In other words, given labeled training data (s...  Machine learning\n",
       "3      the algorithm outputs an optimal hyperplane ,  Machine learning\n",
       "4                    which categorizes new examples.  Machine learning"
      ]
     },
     "execution_count": 23,
     "metadata": {},
     "output_type": "execute_result"
    }
   ],
   "source": [
    "machine_learning_df.head()"
   ]
  },
  {
   "cell_type": "code",
   "execution_count": 24,
   "metadata": {},
   "outputs": [
    {
     "data": {
      "text/plain": [
       "0     A Support Vector Machine (SVM) is a discrimina...\n",
       "1         formally defined by a separating hyperplane.,\n",
       "2     In other words, given labeled training data (s...\n",
       "3         the algorithm outputs an optimal hyperplane ,\n",
       "4                       which categorizes new examples.\n",
       "5     In which sense is the hyperplane obtained opti...\n",
       "6          Let’s consider the following simple problem:\n",
       "7             For a linearly separable set of 2D-points\n",
       "8     which belong to one of two classes, find a sep...\n",
       "9     In this example we deal with lines and points ...\n",
       "10    instead of hyperplanes and vectors in a high d...\n",
       "11             This is a simplification of the problem.\n",
       "12    It is important to understand that this is don...\n",
       "13    is better built from examples that are easy to...\n",
       "14    Then, the operation of the SVM algorithm is ba...\n",
       "15    that gives the largest minimum distance to the...\n",
       "Name: sentence, dtype: object"
      ]
     },
     "execution_count": 24,
     "metadata": {},
     "output_type": "execute_result"
    }
   ],
   "source": [
    "machine_learning_df.sentence"
   ]
  },
  {
   "cell_type": "code",
   "execution_count": 25,
   "metadata": {},
   "outputs": [],
   "source": [
    "search_terms_encoded = tfidf_vectorizer.transform(machine_learning_df.sentence)"
   ]
  },
  {
   "cell_type": "code",
   "execution_count": 26,
   "metadata": {},
   "outputs": [],
   "source": [
    "search_terms_encoded_df = pd.DataFrame(search_terms_encoded.toarray(), \n",
    "                                       index=machine_learning_df.sentence, \n",
    "                                       columns=tfidf_vectorizer.get_feature_names())"
   ]
  },
  {
   "cell_type": "markdown",
   "metadata": {},
   "source": [
    "### Select a Random Search Term"
   ]
  },
  {
   "cell_type": "code",
   "execution_count": 27,
   "metadata": {},
   "outputs": [
    {
     "data": {
      "text/html": [
       "<div>\n",
       "<table border=\"1\" class=\"dataframe\">\n",
       "  <thead>\n",
       "    <tr style=\"text-align: right;\">\n",
       "      <th></th>\n",
       "      <th>aa</th>\n",
       "      <th>aaa</th>\n",
       "      <th>aaabc</th>\n",
       "      <th>aaabcaaabcaaabcaaabc</th>\n",
       "      <th>aaai</th>\n",
       "      <th>aaainumber</th>\n",
       "      <th>aaas</th>\n",
       "      <th>aabaabaa</th>\n",
       "      <th>aabar</th>\n",
       "      <th>aabsbaarightarrow</th>\n",
       "      <th>...</th>\n",
       "      <th>zvfz</th>\n",
       "      <th>zwart</th>\n",
       "      <th>zx</th>\n",
       "      <th>zxoxm</th>\n",
       "      <th>zxtimes</th>\n",
       "      <th>zxy</th>\n",
       "      <th>zymapsto</th>\n",
       "      <th>zynga</th>\n",
       "      <th>zyrion</th>\n",
       "      <th>zzero</th>\n",
       "    </tr>\n",
       "    <tr>\n",
       "      <th>sentence</th>\n",
       "      <th></th>\n",
       "      <th></th>\n",
       "      <th></th>\n",
       "      <th></th>\n",
       "      <th></th>\n",
       "      <th></th>\n",
       "      <th></th>\n",
       "      <th></th>\n",
       "      <th></th>\n",
       "      <th></th>\n",
       "      <th></th>\n",
       "      <th></th>\n",
       "      <th></th>\n",
       "      <th></th>\n",
       "      <th></th>\n",
       "      <th></th>\n",
       "      <th></th>\n",
       "      <th></th>\n",
       "      <th></th>\n",
       "      <th></th>\n",
       "      <th></th>\n",
       "    </tr>\n",
       "  </thead>\n",
       "  <tbody>\n",
       "    <tr>\n",
       "      <th>It is important to understand that this is done only because our intuition,</th>\n",
       "      <td>0.0</td>\n",
       "      <td>0.0</td>\n",
       "      <td>0.0</td>\n",
       "      <td>0.0</td>\n",
       "      <td>0.0</td>\n",
       "      <td>0.0</td>\n",
       "      <td>0.0</td>\n",
       "      <td>0.0</td>\n",
       "      <td>0.0</td>\n",
       "      <td>0.0</td>\n",
       "      <td>...</td>\n",
       "      <td>0.0</td>\n",
       "      <td>0.0</td>\n",
       "      <td>0.0</td>\n",
       "      <td>0.0</td>\n",
       "      <td>0.0</td>\n",
       "      <td>0.0</td>\n",
       "      <td>0.0</td>\n",
       "      <td>0.0</td>\n",
       "      <td>0.0</td>\n",
       "      <td>0.0</td>\n",
       "    </tr>\n",
       "  </tbody>\n",
       "</table>\n",
       "<p>1 rows × 37806 columns</p>\n",
       "</div>"
      ],
      "text/plain": [
       "                                                     aa  aaa  aaabc  \\\n",
       "sentence                                                              \n",
       "It is important to understand that this is done...  0.0  0.0    0.0   \n",
       "\n",
       "                                                    aaabcaaabcaaabcaaabc  \\\n",
       "sentence                                                                   \n",
       "It is important to understand that this is done...                   0.0   \n",
       "\n",
       "                                                    aaai  aaainumber  aaas  \\\n",
       "sentence                                                                     \n",
       "It is important to understand that this is done...   0.0         0.0   0.0   \n",
       "\n",
       "                                                    aabaabaa  aabar  \\\n",
       "sentence                                                              \n",
       "It is important to understand that this is done...       0.0    0.0   \n",
       "\n",
       "                                                    aabsbaarightarrow  ...    \\\n",
       "sentence                                                               ...     \n",
       "It is important to understand that this is done...                0.0  ...     \n",
       "\n",
       "                                                    zvfz  zwart   zx  zxoxm  \\\n",
       "sentence                                                                      \n",
       "It is important to understand that this is done...   0.0    0.0  0.0    0.0   \n",
       "\n",
       "                                                    zxtimes  zxy  zymapsto  \\\n",
       "sentence                                                                     \n",
       "It is important to understand that this is done...      0.0  0.0       0.0   \n",
       "\n",
       "                                                    zynga  zyrion  zzero  \n",
       "sentence                                                                  \n",
       "It is important to understand that this is done...    0.0     0.0    0.0  \n",
       "\n",
       "[1 rows x 37806 columns]"
      ]
     },
     "execution_count": 27,
     "metadata": {},
     "output_type": "execute_result"
    }
   ],
   "source": [
    "random_search_term_df = search_terms_encoded_df.sample()\n",
    "random_search_term_df.head()"
   ]
  },
  {
   "cell_type": "markdown",
   "metadata": {},
   "source": [
    "### Append the search term to the document term matrix"
   ]
  },
  {
   "cell_type": "code",
   "execution_count": 28,
   "metadata": {},
   "outputs": [],
   "source": [
    "dtm_with_search_term = document_term_matrix_df.append(random_search_term_df)"
   ]
  },
  {
   "cell_type": "markdown",
   "metadata": {},
   "source": [
    "### Compute SVD of Augmented Document Term Matrix\n"
   ]
  },
  {
   "cell_type": "code",
   "execution_count": 30,
   "metadata": {},
   "outputs": [],
   "source": [
    "from sklearn.decomposition import TruncatedSVD"
   ]
  },
  {
   "cell_type": "code",
   "execution_count": 31,
   "metadata": {},
   "outputs": [],
   "source": [
    "n_components = 50\n",
    "SVD = TruncatedSVD(n_components)\n",
    "component_names = [\"component_\"+str(i+1) for i in range(n_components)]"
   ]
  },
  {
   "cell_type": "code",
   "execution_count": 32,
   "metadata": {},
   "outputs": [],
   "source": [
    "svd_matrix = SVD.fit_transform(dtm_with_search_term)"
   ]
  },
  {
   "cell_type": "code",
   "execution_count": 33,
   "metadata": {},
   "outputs": [],
   "source": [
    "svd_df = pd.DataFrame(svd_matrix, \n",
    "                      index=dtm_with_search_term.index, \n",
    "                      columns=component_names)"
   ]
  },
  {
   "cell_type": "markdown",
   "metadata": {},
   "source": [
    "### Identify the Vector for our Search Term"
   ]
  },
  {
   "cell_type": "code",
   "execution_count": 34,
   "metadata": {},
   "outputs": [
    {
     "data": {
      "text/html": [
       "<div>\n",
       "<table border=\"1\" class=\"dataframe\">\n",
       "  <thead>\n",
       "    <tr style=\"text-align: right;\">\n",
       "      <th></th>\n",
       "      <th>component_1</th>\n",
       "      <th>component_2</th>\n",
       "      <th>component_3</th>\n",
       "      <th>component_4</th>\n",
       "      <th>component_5</th>\n",
       "      <th>component_6</th>\n",
       "      <th>component_7</th>\n",
       "      <th>component_8</th>\n",
       "      <th>component_9</th>\n",
       "      <th>component_10</th>\n",
       "      <th>...</th>\n",
       "      <th>component_41</th>\n",
       "      <th>component_42</th>\n",
       "      <th>component_43</th>\n",
       "      <th>component_44</th>\n",
       "      <th>component_45</th>\n",
       "      <th>component_46</th>\n",
       "      <th>component_47</th>\n",
       "      <th>component_48</th>\n",
       "      <th>component_49</th>\n",
       "      <th>component_50</th>\n",
       "    </tr>\n",
       "  </thead>\n",
       "  <tbody>\n",
       "    <tr>\n",
       "      <th>It is important to understand that this is done only because our intuition,</th>\n",
       "      <td>0.008175</td>\n",
       "      <td>-0.002072</td>\n",
       "      <td>-0.004301</td>\n",
       "      <td>0.011646</td>\n",
       "      <td>-0.007777</td>\n",
       "      <td>-0.02235</td>\n",
       "      <td>0.001893</td>\n",
       "      <td>-0.005134</td>\n",
       "      <td>-0.000656</td>\n",
       "      <td>-0.007107</td>\n",
       "      <td>...</td>\n",
       "      <td>-0.005839</td>\n",
       "      <td>0.000588</td>\n",
       "      <td>0.003006</td>\n",
       "      <td>-0.003764</td>\n",
       "      <td>-0.025773</td>\n",
       "      <td>-0.008572</td>\n",
       "      <td>-0.01698</td>\n",
       "      <td>-0.01155</td>\n",
       "      <td>0.009429</td>\n",
       "      <td>-0.006736</td>\n",
       "    </tr>\n",
       "  </tbody>\n",
       "</table>\n",
       "<p>1 rows × 50 columns</p>\n",
       "</div>"
      ],
      "text/plain": [
       "                                                    component_1  component_2  \\\n",
       "It is important to understand that this is done...     0.008175    -0.002072   \n",
       "\n",
       "                                                    component_3  component_4  \\\n",
       "It is important to understand that this is done...    -0.004301     0.011646   \n",
       "\n",
       "                                                    component_5  component_6  \\\n",
       "It is important to understand that this is done...    -0.007777     -0.02235   \n",
       "\n",
       "                                                    component_7  component_8  \\\n",
       "It is important to understand that this is done...     0.001893    -0.005134   \n",
       "\n",
       "                                                    component_9  component_10  \\\n",
       "It is important to understand that this is done...    -0.000656     -0.007107   \n",
       "\n",
       "                                                        ...       \\\n",
       "It is important to understand that this is done...      ...        \n",
       "\n",
       "                                                    component_41  \\\n",
       "It is important to understand that this is done...     -0.005839   \n",
       "\n",
       "                                                    component_42  \\\n",
       "It is important to understand that this is done...      0.000588   \n",
       "\n",
       "                                                    component_43  \\\n",
       "It is important to understand that this is done...      0.003006   \n",
       "\n",
       "                                                    component_44  \\\n",
       "It is important to understand that this is done...     -0.003764   \n",
       "\n",
       "                                                    component_45  \\\n",
       "It is important to understand that this is done...     -0.025773   \n",
       "\n",
       "                                                    component_46  \\\n",
       "It is important to understand that this is done...     -0.008572   \n",
       "\n",
       "                                                    component_47  \\\n",
       "It is important to understand that this is done...      -0.01698   \n",
       "\n",
       "                                                    component_48  \\\n",
       "It is important to understand that this is done...      -0.01155   \n",
       "\n",
       "                                                    component_49  component_50  \n",
       "It is important to understand that this is done...      0.009429     -0.006736  \n",
       "\n",
       "[1 rows x 50 columns]"
      ]
     },
     "execution_count": 34,
     "metadata": {},
     "output_type": "execute_result"
    }
   ],
   "source": [
    "search_term_svd_vector = svd_df.loc[random_search_term_df.index]\n",
    "search_term_svd_vector[:5]"
   ]
  },
  {
   "cell_type": "markdown",
   "metadata": {},
   "source": [
    "### Use Cosine Similarity to Find the Most Similar Vector"
   ]
  },
  {
   "cell_type": "code",
   "execution_count": 35,
   "metadata": {},
   "outputs": [],
   "source": [
    "from sklearn.metrics.pairwise import cosine_similarity"
   ]
  },
  {
   "cell_type": "code",
   "execution_count": 36,
   "metadata": {},
   "outputs": [],
   "source": [
    "svd_df['cosine_sim'] = cosine_similarity(svd_df, search_term_svd_vector)"
   ]
  },
  {
   "cell_type": "code",
   "execution_count": 37,
   "metadata": {},
   "outputs": [
    {
     "data": {
      "text/html": [
       "<div>\n",
       "<table border=\"1\" class=\"dataframe\">\n",
       "  <thead>\n",
       "    <tr style=\"text-align: right;\">\n",
       "      <th></th>\n",
       "      <th>cosine_sim</th>\n",
       "    </tr>\n",
       "  </thead>\n",
       "  <tbody>\n",
       "    <tr>\n",
       "      <th>It is important to understand that this is done only because our intuition,</th>\n",
       "      <td>1.000000</td>\n",
       "    </tr>\n",
       "    <tr>\n",
       "      <th>an erp system selection methodology is a formal process for selecting an enterprise resource planning erp system existing methodologies includespecit independent vendor selection managementkuipers funnel methoddobrins NUMBER d decision support toolclarkson potomac method overview irrespective of whether the company is a multinational multi milliondollar organization nonprofit or a small company with single digit million turnover the goal of system selection is to source a system that can provide functionality for all of the business processes that will get complete user acceptance management approval and most importantly can provide significant return on investment for the shareholders since the midNUMBER s when there was widespread introduction of computer packages into leading companies to assist in material requirements planning software companies have striven and for the most part succeeded to create packages that assist in all aspects of running a business from manufacturing supply chain management human resources through to financials this led to the evolution of erp systems accordingly a significant number of packages purporting to be erp systems have entered into the marketplace since NUMBER there are packages at the upper end of the market and a vast quantity of other packages that vendors claim to be erp systems there are also packages that claim to be best of breed for certain processes such as planning and sold merely as an addon to an erp system the options are many and this in reality creates a problem for the company who has to make a decision the complexity of selecting an erp system is further exacerbated by the fact that some systems are geared for discrete manufacturing environment where a distinct amount of items make up a finished product while others are more suited to process industries such as chemical and food processing where the ingredients are not exact and where there might be rework and byproducts of a process in the last decade companies have also become interested in enhanced functionality such as customer relationship management and electronic commerce capability given all of the potential solutions it is not uncommon for companies to choose a system that is not the best fit for the business and this normally leads to a more expensive implementation thus erp costs can run as high as two or three percent of revenues a proper erp system selection methodology will deliver within time and budget an erp system that is best fit for the business processes and the user in an enterprise it is used in small scale enterprises for implement their organization towards the mis poor system selection companies seldom use a fully objective selection methodology when choosing an erp system some common mistakes includeincomplete requirementsbecause implementation of a new erp system requires people to do their job differently wallace and kremzar it is very important to understand user requirements not only for current processes but also future processes i e before and after the new system is installed without detailed user requirements review of systems for functional bestfit rarely succeeds the requirements must go into sufficient detail for complex processes or processes that may be unique to a particular business reliance on vendor demosvendor demonstrations tend to focus on very simplistic processes a typical demonstration shows an ideal order to cash process where a customer orders a quantity of product that is in stock the reality in most businesses is that most customers have varying and more complex commercial arrangements and products are not always in stock overemphasis on system costaccording to finlay and servant the differential in purchase price between packages is unlikely to be the dominant factor while the cost of an erp system is significant for a company other important decision criteria such as functionality future proofing underlying infrastructure network database and ecommerce capability among others may be understressed further evaluation of potentially hidden expenses or recurring charges should be taken into account which would help determine whether the system can be afforded on a continuous basis such expenses may include annual maintenance hardware replacement costs employee training integration and upgrades careful analysis of change managementduring the erp software implementation most the processes and systems require deep analysis to effectively manage the change also the most important point would be to manage the skill set of the employees as well as the executives the training of the department heads should be prioritized as they would be the guide to the end users to ensure effective use of the software underemphasis on system supportby undervaluing the support options provided by the vendor an organization may inadvertently select the wrong erp system solution depending on the fee structure for support and or training an organization may find that they have not properly budgeted for full system support or training necessary to fully adopt the solution by their employees every organization should carefully identify their needs for continuing support and training during and after full implementation to ensure that the vendors contract spells out exactly how they will meet those needs selection biasit is not unusual that the decision on which system to purchase is made by one individual or by one department within the company in these situations an erp system that may be excellent at one function but weak at other processes may be imposed on the entire enterprise with serious consequences for the business lack of understanding of own business processeswithout clear view on where things are at present it is difficult if not impossible to define expectations from the new system erp system selection may become a nightmare very quickly if the company does not have clear expectations of what must be accomplished by a new solution ignorance of industry specific work specific erp softwarethere are many vendors makingtuning erp software for a particular industry particular scale of work for eg servicemax is a salesforce cloud solution specific to field service management however its not a known solution as much as salesforce itself thus many companies tend to employ wellknown erp software and try customizing it instead of doing a full research on variant available solutions of the same erp vendor failure to use objective professional servicesone of the main reasons for failure in system selection is the understandable lack of knowledge within the company experienced consultants can provide information on all of the packages that are available in the marketplace the latest functionality available in the most common packages and most importantly can assist the user in deciding whether a specific requirement would provide added value to the user and to the business however it is worth noting that the professional help must be provided by objective consultants who have no affiliation with erp system vendors if a consultancy has built up an expertise in the use of a particular package then it is in its interest to recommend that package to its client issues can also arise from consultants that are not familiar with the specific offerings of an industry and can push offerings that are not the best choice for the customer inability to understand offering by erp vendorit is estimated that approximately NUMBER of enterprise system implementations are late or over budget a plausible explanation for implementations being late and over budget is that the company did not understand the offering by the vendor before the contract was signed a typical example of this would be the scenario where a vendor may offer NUMBER days of services for the purpose of data migration the reality is that there is a huge amount of work required to input data onto a new system the vendor will import the data into the new system but expects the company to put the data into a file that is easy to import into the system the company are also expected to extract the data from the old system clean the data and add new data that is required by the new system erp to be successful requires levels of data integrity far higher than most companies have ever achieved or even considered inventory records bill of materials bom formulas recipes routings and other data need to become highly accurate complete and properly structured this typical scenario is one of many issues that cause implementations to be delayed and invariably lead to requests for more resources inhouse expertisefor selecting an erp system to implement an organization can choose to hire a knowledgeable source for inhouse management or use a consulting firm with a third party vendor it can be easy to not fully comprehend the system capabilities and the gap of requirements the erp system does not offer for that reason organizations need to weight the costs of hiring an erp knowledge expert or trusting a third party vendor for implementation if an organization decides to use a vendor they will need to decide how to handle the ongoing maintenance of the system a proper system selection methodology to address the common mistakes that lead to a poor system selection it is important to apply key principles to the process some of which are listed belowstructured approachthe first step in selection of a new system is to adopt a structured approach to the process the set of practices are presented to all the stakeholders within the enterprise before the system selection process begins everyone needs to understand the method of gathering requirements invitation to tender how potential vendors will be selected the format of demonstrations and the process for selecting the vendor thus each stakeholder is aware that the decision will be made on an objective and collective basis and this will always lead to a high level of cooperation within the process focused demonstrationsdemonstrations by potential vendors must be relevant to the business however it is important to understand that there is considerable amount of preparation required by vendors to perform demonstrations that are specific to a business therefore it is imperative that vendors are treated equally in requests for demonstrations and it is incumbent on the company and the objective consultant assisting the company in the selection process to identify sufficient demonstrations that will allow a proper decision to be made but will also ensure that vendors do not opt out of the selection process due to the extent of preparation required objective decision processchoosing which erp to use is a complex decision that has significant economic consequences thus it requires a multicriterion approach there are two key points to note when the major decision makers are agreeing on selection criteria that will be used in evaluating potential vendors firstly the criteria and the scoring system must be agreed in advance prior to viewing any potential systems the criteria must be wideranging and decided upon by as many objective people as possible within and external to the enterprise in no circumstance should people with affiliations to one or more systems be allowed to advise in this regard full involvement by all personnelthe decision on the system must be made by all stakeholders within the enterprise it requires top management leadership and participation it involves virtually every department within the company representatives of all users shouldbe involved in the project initiation phase where the decision making process is agreedassist in the gathering of requirementsattend the vendor demonstrationshave a significant participation in the shortlisting and final selection of a vendor references external links erp definition and solutions</th>\n",
       "      <td>0.498135</td>\n",
       "    </tr>\n",
       "    <tr>\n",
       "      <th>workforce optimization wfo is a business strategy that integrates contact center technologies for customer experience to promote operational efficiency the strategy involves automating processes data visibility compliance on legislation and solving business problems related to staff it is used by call centers to improve workforce management and agent performance description workforce optimization uses all aspects of the complete workforce management lifecycle and provides key insights into how its workforce is performing with a focus on customer experience workforce optimization includes automating entire processes making key data more visible to support better decisionmaking ensuring compliance on relevant legislation and solving business problems related to staff it is used by contact centers to make convenient communication with customers such as text messaging support the strategy ties together the human resources operations and it departments of a business workforce optimization manages the performance of staff to understand the impact on both operational efficiency and the customer experience companies use voc insights to improve customer experience which increases the effectiveness of its agents and builds customer loyalty development dmg consultings NUMBER contact center workforce optimization market share report documented an increase in workforce optimization revenue over the NUMBER fiscal year it noted an increase in investments to improve core solutions as well as improvements in backoffice and branch workforce optimization solutions in NUMBER dmg consulting found a resurgence in workforce management due to innovation in usability and functionality through speech and text analytics desktop analytics and customer journey analytics applications it also considered a shift in the workforce optimization market to emphasize enterprise analytics that personalize customer interaction references external links what you need to know about workforce optimization industry week NUMBER march NUMBER</th>\n",
       "      <td>0.482582</td>\n",
       "    </tr>\n",
       "    <tr>\n",
       "      <th>in machine learning pattern recognition and in image processing feature extraction starts from an initial set of measured data and builds derived values features intended to be informative and nonredundant facilitating the subsequent learning and generalization steps and in some cases leading to better human interpretations feature extraction is related to dimensionality reduction when the input data to an algorithm is too large to be processed and it is suspected to be redundant e g the same measurement in both feet and meters or the repetitiveness of images presented as pixels then it can be transformed into a reduced set of features also named a feature vector determining a subset of the initial features is called feature selection the selected features are expected to contain the relevant information from the input data so that the desired task can be performed by using this reduced representation instead of the complete initial data general feature extraction involves reducing the amount of resources required to describe a large set of data when performing analysis of complex data one of the major problems stems from the number of variables involved analysis with a large number of variables generally requires a large amount of memory and computation power also it may cause a classification algorithm to overfit to training samples and generalize poorly to new samples feature extraction is a general term for methods of constructing combinations of the variables to get around these problems while still describing the data with sufficient accuracy results can be improved using constructed set of applicationdependent features typically built by an expert a process called feature engineering alternatively general dimensionality reduction techniques are used such asindependent component analysisisomapkernel pcalatent semantic analysispartial least squaresprincipal component analysismultifactor dimensionality reductionnonlinear dimensionality reductionmultilinear principal component analysismultilinear subspace learningsemidefinite embeddingautoencoder image processing one very important area of application is image processing in which algorithms are used to detect and isolate various desired portions or shapes features of a digitized image or video stream it is particularly important in the area of optical character recognition lowlevel edge detectioncorner detectionblob detectionridge detectionscaleinvariant feature transform curvature edge direction changing intensity autocorrelation image motion motion detection area based differential approach optical flow shape based thresholdingblob extractiontemplate matchinghough transformlinescirclesellipsesarbitrary shapes generalized hough transformworks with any parameterizable feature class variables cluster detection etc flexible methods deformable parameterized shapesactive contours snakes feature extraction in software many data analysis software packages provide for feature extraction and dimension reduction common numerical programming environments such as matlab scilab numpy and the r language provide some of the simpler feature extraction techniques e g principal component analysis via builtin commands more specific algorithms are often available as publicly available scripts or thirdparty addons see also cluster analysisdimensionality reductionfeature detectionfeature selectiondata miningconnectedcomponent labelingsegmentation image processing references</th>\n",
       "      <td>0.459287</td>\n",
       "    </tr>\n",
       "    <tr>\n",
       "      <th>handwriting recognition or hwr is the ability of a computer to receive and interpret intelligible handwritten input from sources such as paper documents photographs touchscreens and other devices the image of the written text may be sensed off line from a piece of paper by optical scanning optical character recognition or intelligent word recognition alternatively the movements of the pen tip may be sensed on line for example by a penbased computer screen surface a generally easier task as there are more clues available handwriting recognition principally entails optical character recognition however a complete handwriting recognition system also handles formatting performs correct segmentation into characters and finds the most plausible words offline recognition offline handwriting recognition involves the automatic conversion of text in an image into letter codes which are usable within computer and textprocessing applications the data obtained by this form is regarded as a static representation of handwriting offline handwriting recognition is comparatively difficult as different people have different handwriting styles and as of today ocr engines are primarily focused on machine printed text and icr for hand printed written in capital letters text problem domain reduction techniques narrowing the problem domain often helps increase the accuracy of handwriting recognition systems a form field for a u s zip code for example would contain only the characters NUMBER this fact would reduce the number of possible identifications primary techniquesspecifying specific character rangesutilization of specialized forms character extraction offline character recognition often involves scanning a form or document written sometime in the past this means the individual characters contained in the scanned image will need to be extracted tools exist that are capable of performing this step however there are several common imperfections in this step the most common is when characters that are connected are returned as a single subimage containing both characters this causes a major problem in the recognition stage yet many algorithms are available that reduce the risk of connected characters character recognition after the extraction of individual characters occurs a recognition engine is used to identify the corresponding computer character several different recognition techniques are currently available neural networks neural network recognizers learn from an initial image training set the trained network then makes the character identifications each neural network uniquely learns the properties that differentiate training images it then looks for similar properties in the target image to be identified neural networks are quick to set up however they can be inaccurate if they learn properties that are not important in the target data feature extraction feature extraction works in a similar fashion to neural network recognizers however programmers must manually determine the properties they feel are important some example properties might beaspect ratio percent of pixels above horizontal half pointpercent of pixels to right of vertical half pointnumber of strokesaverage distance from image centeris reflected y axisis reflected x axisthis approach gives the recognizer more control over the properties used in identification yet any system using this approach requires substantially more development time than a neural network because the properties are not learned automatically online recognition online handwriting recognition involves the automatic conversion of text as it is written on a special digitizer or pda where a sensor picks up the pentip movements as well as penuppendown switching this kind of data is known as digital ink and can be regarded as a digital representation of handwriting the obtained signal is converted into letter codes which are usable within computer and textprocessing applications the elements of an online handwriting recognition interface typically includea pen or stylus for the user to write with a touch sensitive surface which may be integrated with or adjacent to an output display a software application which interprets the movements of the stylus across the writing surface translating the resulting strokes into digital text and an offline recognition is the problem general process the process of online handwriting recognition can be broken down into a few general stepspreprocessingfeature extraction andclassificationthe purpose of preprocessing is to discard irrelevant information in the input data that can negatively affect the recognition this concerns speed and accuracy preprocessing usually consists of binarization normalization sampling smoothing and denoising the second step is feature extraction out of the two or moredimensional vector field received from the preprocessing algorithms higherdimensional data is extracted the purpose of this step is to highlight important information for the recognition model this data may include information like pen pressure velocity or the changes of writing direction the last big step is classification in this step various models are used to map the extracted features to different classes and thus identifying the characters or words the features represent hardware commercial products incorporating handwriting recognition as a replacement for keyboard input were introduced in the early NUMBER s examples include handwriting terminals such as the pencept penpad and the inforite pointofsale terminal with the advent of the large consumer market for personal computers several commercial products were introduced to replace the keyboard and mouse on a personal computer with a single pointinghandwriting system such as those from pencept cic and others the first commercially available tablettype portable computer was the gridpad from grid systems released in september NUMBER its operating system was based on msdos in the early NUMBER s hardware makers including ncr ibm and eo released tablet computers running the penpoint operating system developed by go corp penpoint used handwriting recognition and gestures throughout and provided the facilities to thirdparty software ibms tablet computer was the first to use the thinkpad name and used ibms handwriting recognition this recognition system was later ported to microsoft windows for pen computing and ibms pen for osNUMBER none of these were commercially successful advancements in electronics allowed the computing power necessary for handwriting recognition to fit into a smaller form factor than tablet computers and handwriting recognition is often used as an input method for handheld pdas the first pda to provide written input was the apple newton which exposed the public to the advantage of a streamlined user interface however the device was not a commercial success owing to the unreliability of the software which tried to learn a users writing patterns by the time of the release of the newton os NUMBER NUMBER wherein the handwriting recognition was greatly improved including unique features still not found in current recognition systems such as modeless error correction the largely negative first impression had been made after discontinuation of apple newton the feature has been ported to mac os x NUMBER NUMBER or later in form of inkwell macintosh palm later launched a successful series of pdas based on the graffiti recognition system graffiti improved usability by defining a set of unistrokes or onestroke forms for each character this narrowed the possibility for erroneous input although memorization of the stroke patterns did increase the learning curve for the user the graffiti handwriting recognition was found to infringe on a patent held by xerox and palm replaced graffiti with a licensed version of the cic handwriting recognition which while also supporting unistroke forms predated the xerox patent the court finding of infringement was reversed on appeal and then reversed again on a later appeal the parties involved subsequently negotiated a settlement concerning this and other patents graffiti palm os a tablet pc is a special notebook computer that is outfitted with a digitizer tablet and a stylus and allows a user to handwrite text on the units screen the operating system recognizes the handwriting and converts it into typewritten text windows vista and windows NUMBER include personalization features that learn a users writing patterns or vocabulary for english japanese chinese traditional chinese simplified and korean the features include a personalization wizard that prompts for samples of a users handwriting and uses them to retrain the system for higher accuracy recognition this system is distinct from the less advanced handwriting recognition system employed in its windows mobile os for pdas although handwriting recognition is an input form that the public has become accustomed to it has not achieved widespread use in either desktop computers or laptops it is still generally accepted that keyboard input is both faster and more reliable as of NUMBER many pdas offer handwriting input sometimes even accepting natural cursive handwriting but accuracy is still a problem and some people still find even a simple onscreen keyboard more efficient software initial software modules could understand print handwriting where the characters were separated author of the first applied pattern recognition program in NUMBER was shelia guberman then in moscow commercial examples came from companies such as communications intelligence corporation and ibm in the early NUMBER s two companies paragraph international and lexicus came up with systems that could understand cursive handwriting recognition paragraph was based in russia and founded by computer scientist stepan pachikov while lexicus was founded by ronjon nag and chris kortge who were students at stanford university the paragraph calligrapher system was deployed in the apple newton systems and lexicus longhand system was made available commercially for the penpoint and windows operating system lexicus was acquired by motorola in NUMBER and went on to develop chinese handwriting recognition and predictive text systems for motorola paragraph was acquired in NUMBER by sgi and its handwriting recognition team formed a pi division later acquired from sgi by vadem microsoft has acquired calligrapher handwriting recognition and other digital ink technologies developed by pi from vadem in NUMBER wolfram mathematica NUMBER NUMBER or later also provides a handwriting or text recognition function textrecognize research handwriting recognition has an active community of academics studying it the biggest conferences for handwriting recognition are the international conference on frontiers in handwriting recognition icfhr held in evennumbered years and the international conference on document analysis and recognition icdar held in oddnumbered years both of these conferences are endorsed by the ieee active areas of research includeonline recognitionoffline recognitionsignature verificationpostaladdress interpretationbankcheck processingwriter recognition results since NUMBER since NUMBER the recurrent neural networks and deep feedforward neural networks developed in the research group of jrgen schmidhuber at the swiss ai lab idsia have won several international handwriting competitions in particular the bidirectional and multidimensional long shortterm memory lstm of alex graves et al won three competitions in connected handwriting recognition at the NUMBER international conference on document analysis and recognition icdar without any prior knowledge about the three different languages french arabic persian to be learned recent gpubased deep learning methods for feedforward networks by dan ciresan and colleagues at idsia won the icdar NUMBER offline chinese handwriting recognition contest their neural networks also were the first artificial pattern recognizers to achieve humancompetitive performance on the famous mnist handwritten digits problem of yann lecun and colleagues at nyu see also optical character recognitionintelligent character recognitionai effectapplications of artificial intelligencehandwriting movement analysisneocognitronpen computinglive ink character recognition solutionsketch recognitiontablet pc lists outline of artificial intelligencelist of emerging technologies references external links annotated bibliography of references to gesture and pen computingnotes on the history of penbased computing youtube</th>\n",
       "      <td>0.425101</td>\n",
       "    </tr>\n",
       "  </tbody>\n",
       "</table>\n",
       "</div>"
      ],
      "text/plain": [
       "                                                    cosine_sim\n",
       "It is important to understand that this is done...    1.000000\n",
       "an erp system selection methodology is a formal...    0.498135\n",
       "workforce optimization wfo is a business strate...    0.482582\n",
       "in machine learning pattern recognition and in ...    0.459287\n",
       "handwriting recognition or hwr is the ability o...    0.425101"
      ]
     },
     "execution_count": 37,
     "metadata": {},
     "output_type": "execute_result"
    }
   ],
   "source": [
    "svd_df[['cosine_sim']].sort_values('cosine_sim', ascending=False).head(5)"
   ]
  }
 ],
 "metadata": {
  "kernelspec": {
   "display_name": "Python 3",
   "language": "python",
   "name": "python3"
  }
 },
 "nbformat": 4,
 "nbformat_minor": 2
}
